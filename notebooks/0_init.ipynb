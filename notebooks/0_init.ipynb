{
 "cells": [
  {
   "cell_type": "markdown",
   "id": "3dbddc75-bb62-499b-b96a-2ae88f824928",
   "metadata": {},
   "source": [
    "## Imports"
   ]
  },
  {
   "cell_type": "code",
   "execution_count": 1,
   "id": "5f44c391-f680-46b0-b831-987e11410ad6",
   "metadata": {},
   "outputs": [],
   "source": [
    "import pandas as pd\n",
    "import numpy as np\n",
    "import os\n",
    "import pyspark\n",
    "from pyspark.sql import SparkSession"
   ]
  },
  {
   "cell_type": "markdown",
   "id": "5d854cbd-fb34-4d3e-8521-9db3b1ba1e3f",
   "metadata": {},
   "source": [
    "## SparkSession"
   ]
  },
  {
   "cell_type": "code",
   "execution_count": 2,
   "id": "c752c54d-0a3f-4be7-9a43-3322af809a37",
   "metadata": {},
   "outputs": [
    {
     "name": "stdout",
     "output_type": "stream",
     "text": [
      "22/12/27 11:21:15 WARN Utils: Your hostname, SPMBP136.local resolves to a loopback address: 127.0.0.1; using 192.168.0.107 instead (on interface en0)\n",
      "22/12/27 11:21:15 WARN Utils: Set SPARK_LOCAL_IP if you need to bind to another address\n",
      "22/12/27 11:21:16 WARN NativeCodeLoader: Unable to load native-hadoop library for your platform... using builtin-java classes where applicable\n"
     ]
    },
    {
     "name": "stderr",
     "output_type": "stream",
     "text": [
      "Setting default log level to \"WARN\".\n",
      "To adjust logging level use sc.setLogLevel(newLevel). For SparkR, use setLogLevel(newLevel).\n"
     ]
    }
   ],
   "source": [
    "spark = SparkSession.builder \\\n",
    "    .appName('tfidf')\\\n",
    "    .config('spark.jars', '../jars/snowflake-jdbc-3.13.6.jar, ../jars/spark-snowflake_2.12-2.9.0-spark_3.1.jar') \\\n",
    "    .getOrCreate()\n",
    "spark.sparkContext.setLogLevel(\"WARN\")"
   ]
  },
  {
   "cell_type": "code",
   "execution_count": 3,
   "id": "336f0ecf-562a-46ce-b832-caf119997c20",
   "metadata": {},
   "outputs": [],
   "source": [
    "file_path = \"../datasets/wiki.csv\"\n",
    "\n",
    "wiki = spark.read.format(\"csv\").option(\"header\", \"true\").load(file_path)"
   ]
  },
  {
   "cell_type": "code",
   "execution_count": 4,
   "id": "6c8bc103-7e4c-4cef-8377-3d548f17acf8",
   "metadata": {},
   "outputs": [
    {
     "name": "stdout",
     "output_type": "stream",
     "text": [
      "+---+--------------------+-------------------+--------------------+\n",
      "| ID|               Title|               Time|            Document|\n",
      "+---+--------------------+-------------------+--------------------+\n",
      "| 12|           Anarchism|2008-12-30 06:23:05|\"Anarchism (somet...|\n",
      "| 25|              Autism|2008-12-24 20:41:05|\"Autism is a brai...|\n",
      "| 39|              Albedo|2008-12-29 18:19:09|\"The albedo of an...|\n",
      "|290|                   A|2008-12-27 04:33:16|\"The letter A is ...|\n",
      "|303|             Alabama|2008-12-29 08:15:47|\"Alabama (formall...|\n",
      "|305|            Achilles|2008-12-30 06:18:01|\"thumb\\n\\nIn Gree...|\n",
      "|307|     Abraham Lincoln|2008-12-28 20:18:23|\"Abraham Lincoln ...|\n",
      "|308|           Aristotle|2008-12-29 23:54:48|\"Aristotle (Greek...|\n",
      "|309|An American in Paris|2008-09-27 19:29:28|\"An American in P...|\n",
      "|324|       Academy Award|2008-12-28 17:50:43|\"The Academy Awar...|\n",
      "|330|             Actrius|2008-05-23 15:24:32|Actrius (Actresse...|\n",
      "|332|     Animalia (book)|2008-12-18 11:12:34|thumbAnimalia (IS...|\n",
      "|334|International Ato...|2008-11-21 22:40:20|International Ato...|\n",
      "|336|            Altruism|2008-12-27 03:57:17|\"Altruism is self...|\n",
      "|339|            Ayn Rand|2008-12-30 08:03:06|\"Ayn Rand (,  – M...|\n",
      "|340|        Alain Connes|2008-09-03 13:41:39|Alain Connes (bor...|\n",
      "|344|          Allan Dwan|2008-11-14 05:28:58|Allan Dwan (April...|\n",
      "|358|             Algeria|2008-12-29 02:54:36|\"Algeria (, al-Ja...|\n",
      "|359|List of character...|2008-12-23 20:20:21|\"This is a list o...|\n",
      "|569|        Anthropology|2008-12-28 23:04:30|\"Anthropology (, ...|\n",
      "+---+--------------------+-------------------+--------------------+\n",
      "only showing top 20 rows\n",
      "\n"
     ]
    }
   ],
   "source": [
    "wiki.show()"
   ]
  },
  {
   "cell_type": "code",
   "execution_count": null,
   "id": "d6f4dc33-454e-46f0-97a3-2a34e09a9e1a",
   "metadata": {},
   "outputs": [],
   "source": []
  }
 ],
 "metadata": {
  "kernelspec": {
   "display_name": "Python 3 (ipykernel)",
   "language": "python",
   "name": "python3"
  },
  "language_info": {
   "codemirror_mode": {
    "name": "ipython",
    "version": 3
   },
   "file_extension": ".py",
   "mimetype": "text/x-python",
   "name": "python",
   "nbconvert_exporter": "python",
   "pygments_lexer": "ipython3",
   "version": "3.8.5"
  }
 },
 "nbformat": 4,
 "nbformat_minor": 5
}
