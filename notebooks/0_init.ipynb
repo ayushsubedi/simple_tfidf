{
 "cells": [
  {
   "cell_type": "markdown",
   "id": "eda1dc41-d288-4803-8349-18539c5b28cf",
   "metadata": {},
   "source": [
    "# Wikipedia search using TFIDF\n",
    "## Term Frequecy Inverse Document Frequency"
   ]
  },
  {
   "cell_type": "markdown",
   "id": "ead29c47-e0e6-4462-9dbb-9a13aedd24eb",
   "metadata": {},
   "source": [
    "![](../assets/tfidf.png)"
   ]
  },
  {
   "cell_type": "markdown",
   "id": "9b475cfc-3e3d-4dc6-afa1-4c66b85f21aa",
   "metadata": {},
   "source": [
    "please, call, the, number, below, do, not, us, please call, call the, the number, number below, please do, do not, not call, call us"
   ]
  },
  {
   "cell_type": "markdown",
   "id": "34dbcd67-02c4-4f20-9a18-c9ea9926d08b",
   "metadata": {},
   "source": [
    "dimension = [2, 16] "
   ]
  },
  {
   "cell_type": "markdown",
   "id": "5e69eb8b-e48e-4fc6-8499-532076140098",
   "metadata": {},
   "source": [
    "# Example of unigram TFIDF"
   ]
  },
  {
   "cell_type": "markdown",
   "id": "3dbddc75-bb62-499b-b96a-2ae88f824928",
   "metadata": {},
   "source": [
    "## Imports"
   ]
  },
  {
   "cell_type": "code",
   "execution_count": 1,
   "id": "5f44c391-f680-46b0-b831-987e11410ad6",
   "metadata": {},
   "outputs": [],
   "source": [
    "import pandas as pd\n",
    "import numpy as np\n",
    "import os\n",
    "import pyspark\n",
    "from pyspark.sql import SparkSession\n",
    "from pyspark.sql.types import *\n",
    "from pyspark.sql.functions import udf\n",
    "from pyspark.ml.feature import HashingTF, IDF, Tokenizer"
   ]
  },
  {
   "cell_type": "markdown",
   "id": "5d854cbd-fb34-4d3e-8521-9db3b1ba1e3f",
   "metadata": {},
   "source": [
    "## SparkSession"
   ]
  },
  {
   "cell_type": "code",
   "execution_count": 2,
   "id": "c752c54d-0a3f-4be7-9a43-3322af809a37",
   "metadata": {},
   "outputs": [
    {
     "name": "stdout",
     "output_type": "stream",
     "text": [
      "22/12/27 13:35:58 WARN Utils: Your hostname, SPMBP136.local resolves to a loopback address: 127.0.0.1; using 192.168.0.101 instead (on interface en6)\n",
      "22/12/27 13:35:58 WARN Utils: Set SPARK_LOCAL_IP if you need to bind to another address\n",
      "22/12/27 13:35:59 WARN NativeCodeLoader: Unable to load native-hadoop library for your platform... using builtin-java classes where applicable\n"
     ]
    },
    {
     "name": "stderr",
     "output_type": "stream",
     "text": [
      "Setting default log level to \"WARN\".\n",
      "To adjust logging level use sc.setLogLevel(newLevel). For SparkR, use setLogLevel(newLevel).\n"
     ]
    }
   ],
   "source": [
    "spark = SparkSession.builder \\\n",
    "    .appName('tfidf')\\\n",
    "    .config('spark.jars', '../jars/snowflake-jdbc-3.13.6.jar, ../jars/spark-snowflake_2.12-2.9.0-spark_3.1.jar') \\\n",
    "    .getOrCreate()\n",
    "spark.sparkContext.setLogLevel(\"WARN\")"
   ]
  },
  {
   "cell_type": "code",
   "execution_count": 3,
   "id": "336f0ecf-562a-46ce-b832-caf119997c20",
   "metadata": {},
   "outputs": [],
   "source": [
    "file_path = \"../datasets/wiki.csv\"\n",
    "\n",
    "wiki = spark.read.format(\"csv\").option(\"header\", \"true\").load(file_path)"
   ]
  },
  {
   "cell_type": "code",
   "execution_count": 4,
   "id": "6c8bc103-7e4c-4cef-8377-3d548f17acf8",
   "metadata": {},
   "outputs": [
    {
     "name": "stdout",
     "output_type": "stream",
     "text": [
      "+---+--------------------+-------------------+--------------------+\n",
      "| ID|               Title|               Time|            Document|\n",
      "+---+--------------------+-------------------+--------------------+\n",
      "| 12|           Anarchism|2008-12-30 06:23:05|\"Anarchism (somet...|\n",
      "| 25|              Autism|2008-12-24 20:41:05|\"Autism is a brai...|\n",
      "| 39|              Albedo|2008-12-29 18:19:09|\"The albedo of an...|\n",
      "|290|                   A|2008-12-27 04:33:16|\"The letter A is ...|\n",
      "|303|             Alabama|2008-12-29 08:15:47|\"Alabama (formall...|\n",
      "|305|            Achilles|2008-12-30 06:18:01|\"thumb\\n\\nIn Gree...|\n",
      "|307|     Abraham Lincoln|2008-12-28 20:18:23|\"Abraham Lincoln ...|\n",
      "|308|           Aristotle|2008-12-29 23:54:48|\"Aristotle (Greek...|\n",
      "|309|An American in Paris|2008-09-27 19:29:28|\"An American in P...|\n",
      "|324|       Academy Award|2008-12-28 17:50:43|\"The Academy Awar...|\n",
      "|330|             Actrius|2008-05-23 15:24:32|Actrius (Actresse...|\n",
      "|332|     Animalia (book)|2008-12-18 11:12:34|thumbAnimalia (IS...|\n",
      "|334|International Ato...|2008-11-21 22:40:20|International Ato...|\n",
      "|336|            Altruism|2008-12-27 03:57:17|\"Altruism is self...|\n",
      "|339|            Ayn Rand|2008-12-30 08:03:06|\"Ayn Rand (,  – M...|\n",
      "|340|        Alain Connes|2008-09-03 13:41:39|Alain Connes (bor...|\n",
      "|344|          Allan Dwan|2008-11-14 05:28:58|Allan Dwan (April...|\n",
      "|358|             Algeria|2008-12-29 02:54:36|\"Algeria (, al-Ja...|\n",
      "|359|List of character...|2008-12-23 20:20:21|\"This is a list o...|\n",
      "|569|        Anthropology|2008-12-28 23:04:30|\"Anthropology (, ...|\n",
      "+---+--------------------+-------------------+--------------------+\n",
      "only showing top 20 rows\n",
      "\n"
     ]
    }
   ],
   "source": [
    "wiki.show()"
   ]
  },
  {
   "cell_type": "code",
   "execution_count": 5,
   "id": "d6f4dc33-454e-46f0-97a3-2a34e09a9e1a",
   "metadata": {},
   "outputs": [
    {
     "data": {
      "text/plain": [
       "1"
      ]
     },
     "execution_count": 5,
     "metadata": {},
     "output_type": "execute_result"
    }
   ],
   "source": [
    "wiki.filter(wiki.Document.isNull()).count()"
   ]
  },
  {
   "cell_type": "code",
   "execution_count": 6,
   "id": "359c1c1e-061f-4c18-b4bb-05dd264d73df",
   "metadata": {},
   "outputs": [],
   "source": [
    "wiki = wiki.filter(~wiki.Document.isNull())"
   ]
  },
  {
   "cell_type": "code",
   "execution_count": 7,
   "id": "a99e482f-30a0-4aff-8096-bd2ea4e1f36c",
   "metadata": {},
   "outputs": [
    {
     "name": "stdout",
     "output_type": "stream",
     "text": [
      "+---+--------------------+-------------------+--------------------+\n",
      "| ID|               Title|               Time|            Document|\n",
      "+---+--------------------+-------------------+--------------------+\n",
      "| 12|           Anarchism|2008-12-30 06:23:05|\"Anarchism (somet...|\n",
      "| 25|              Autism|2008-12-24 20:41:05|\"Autism is a brai...|\n",
      "| 39|              Albedo|2008-12-29 18:19:09|\"The albedo of an...|\n",
      "|290|                   A|2008-12-27 04:33:16|\"The letter A is ...|\n",
      "|303|             Alabama|2008-12-29 08:15:47|\"Alabama (formall...|\n",
      "|305|            Achilles|2008-12-30 06:18:01|\"thumb\\n\\nIn Gree...|\n",
      "|307|     Abraham Lincoln|2008-12-28 20:18:23|\"Abraham Lincoln ...|\n",
      "|308|           Aristotle|2008-12-29 23:54:48|\"Aristotle (Greek...|\n",
      "|309|An American in Paris|2008-09-27 19:29:28|\"An American in P...|\n",
      "|324|       Academy Award|2008-12-28 17:50:43|\"The Academy Awar...|\n",
      "|330|             Actrius|2008-05-23 15:24:32|Actrius (Actresse...|\n",
      "|332|     Animalia (book)|2008-12-18 11:12:34|thumbAnimalia (IS...|\n",
      "|334|International Ato...|2008-11-21 22:40:20|International Ato...|\n",
      "|336|            Altruism|2008-12-27 03:57:17|\"Altruism is self...|\n",
      "|339|            Ayn Rand|2008-12-30 08:03:06|\"Ayn Rand (,  – M...|\n",
      "|340|        Alain Connes|2008-09-03 13:41:39|Alain Connes (bor...|\n",
      "|344|          Allan Dwan|2008-11-14 05:28:58|Allan Dwan (April...|\n",
      "|358|             Algeria|2008-12-29 02:54:36|\"Algeria (, al-Ja...|\n",
      "|359|List of character...|2008-12-23 20:20:21|\"This is a list o...|\n",
      "|569|        Anthropology|2008-12-28 23:04:30|\"Anthropology (, ...|\n",
      "+---+--------------------+-------------------+--------------------+\n",
      "only showing top 20 rows\n",
      "\n"
     ]
    }
   ],
   "source": [
    "wiki.show()"
   ]
  },
  {
   "cell_type": "code",
   "execution_count": 8,
   "id": "eee21b7a-ba55-44ec-aa6e-5d38b021c3e2",
   "metadata": {},
   "outputs": [],
   "source": [
    "tokenizer = Tokenizer(inputCol=\"Document\", outputCol=\"words\")\n",
    "wordsData = tokenizer.transform(wiki)"
   ]
  },
  {
   "cell_type": "code",
   "execution_count": 9,
   "id": "ece88fc7-320a-4841-8438-7713399d9ff1",
   "metadata": {},
   "outputs": [
    {
     "name": "stdout",
     "output_type": "stream",
     "text": [
      "+---+--------------------+-------------------+--------------------+--------------------+\n",
      "| ID|               Title|               Time|            Document|               words|\n",
      "+---+--------------------+-------------------+--------------------+--------------------+\n",
      "| 12|           Anarchism|2008-12-30 06:23:05|\"Anarchism (somet...|[\"anarchism, (som...|\n",
      "| 25|              Autism|2008-12-24 20:41:05|\"Autism is a brai...|[\"autism, is, a, ...|\n",
      "| 39|              Albedo|2008-12-29 18:19:09|\"The albedo of an...|[\"the, albedo, of...|\n",
      "|290|                   A|2008-12-27 04:33:16|\"The letter A is ...|[\"the, letter, a,...|\n",
      "|303|             Alabama|2008-12-29 08:15:47|\"Alabama (formall...|[\"alabama, (forma...|\n",
      "|305|            Achilles|2008-12-30 06:18:01|\"thumb\\n\\nIn Gree...|[\"thumb\\n\\nin, gr...|\n",
      "|307|     Abraham Lincoln|2008-12-28 20:18:23|\"Abraham Lincoln ...|[\"abraham, lincol...|\n",
      "|308|           Aristotle|2008-12-29 23:54:48|\"Aristotle (Greek...|[\"aristotle, (gre...|\n",
      "|309|An American in Paris|2008-09-27 19:29:28|\"An American in P...|[\"an, american, i...|\n",
      "|324|       Academy Award|2008-12-28 17:50:43|\"The Academy Awar...|[\"the, academy, a...|\n",
      "|330|             Actrius|2008-05-23 15:24:32|Actrius (Actresse...|[actrius, (actres...|\n",
      "|332|     Animalia (book)|2008-12-18 11:12:34|thumbAnimalia (IS...|[thumbanimalia, (...|\n",
      "|334|International Ato...|2008-11-21 22:40:20|International Ato...|[international, a...|\n",
      "|336|            Altruism|2008-12-27 03:57:17|\"Altruism is self...|[\"altruism, is, s...|\n",
      "|339|            Ayn Rand|2008-12-30 08:03:06|\"Ayn Rand (,  – M...|[\"ayn, rand, (,, ...|\n",
      "|340|        Alain Connes|2008-09-03 13:41:39|Alain Connes (bor...|[alain, connes, (...|\n",
      "|344|          Allan Dwan|2008-11-14 05:28:58|Allan Dwan (April...|[allan, dwan, (ap...|\n",
      "|358|             Algeria|2008-12-29 02:54:36|\"Algeria (, al-Ja...|[\"algeria, (,, al...|\n",
      "|359|List of character...|2008-12-23 20:20:21|\"This is a list o...|[\"this, is, a, li...|\n",
      "|569|        Anthropology|2008-12-28 23:04:30|\"Anthropology (, ...|[\"anthropology, (...|\n",
      "+---+--------------------+-------------------+--------------------+--------------------+\n",
      "only showing top 20 rows\n",
      "\n"
     ]
    }
   ],
   "source": [
    "wordsData.show()"
   ]
  },
  {
   "cell_type": "code",
   "execution_count": 10,
   "id": "fc59e90c-3b78-4de5-ae07-94668db089e8",
   "metadata": {},
   "outputs": [],
   "source": [
    "hashingTF = HashingTF(inputCol=\"words\", outputCol=\"rawFeatures\")\n",
    "featuredData = hashingTF.transform(wordsData)"
   ]
  },
  {
   "cell_type": "code",
   "execution_count": 11,
   "id": "03e6cac5-4e47-401d-9182-d8b136d3d00b",
   "metadata": {},
   "outputs": [
    {
     "name": "stdout",
     "output_type": "stream",
     "text": [
      "+---+--------------------+-------------------+--------------------+--------------------+--------------------+\n",
      "| ID|               Title|               Time|            Document|               words|         rawFeatures|\n",
      "+---+--------------------+-------------------+--------------------+--------------------+--------------------+\n",
      "| 12|           Anarchism|2008-12-30 06:23:05|\"Anarchism (somet...|[\"anarchism, (som...|(262144,[15157,27...|\n",
      "| 25|              Autism|2008-12-24 20:41:05|\"Autism is a brai...|[\"autism, is, a, ...|(262144,[15,1546,...|\n",
      "| 39|              Albedo|2008-12-29 18:19:09|\"The albedo of an...|[\"the, albedo, of...|(262144,[7853,240...|\n",
      "|290|                   A|2008-12-27 04:33:16|\"The letter A is ...|[\"the, letter, a,...|(262144,[6037,942...|\n",
      "|303|             Alabama|2008-12-29 08:15:47|\"Alabama (formall...|[\"alabama, (forma...|(262144,[1797,256...|\n",
      "|305|            Achilles|2008-12-30 06:18:01|\"thumb\\n\\nIn Gree...|[\"thumb\\n\\nin, gr...|(262144,[10758,16...|\n",
      "|307|     Abraham Lincoln|2008-12-28 20:18:23|\"Abraham Lincoln ...|[\"abraham, lincol...|(262144,[2564,460...|\n",
      "|308|           Aristotle|2008-12-29 23:54:48|\"Aristotle (Greek...|[\"aristotle, (gre...|(262144,[2767,356...|\n",
      "|309|An American in Paris|2008-09-27 19:29:28|\"An American in P...|[\"an, american, i...|(262144,[2366,670...|\n",
      "|324|       Academy Award|2008-12-28 17:50:43|\"The Academy Awar...|[\"the, academy, a...|(262144,[2931,328...|\n",
      "|330|             Actrius|2008-05-23 15:24:32|Actrius (Actresse...|[actrius, (actres...|(262144,[6558,674...|\n",
      "|332|     Animalia (book)|2008-12-18 11:12:34|thumbAnimalia (IS...|[thumbanimalia, (...|(262144,[2284,609...|\n",
      "|334|International Ato...|2008-11-21 22:40:20|International Ato...|[international, a...|(262144,[847,925,...|\n",
      "|336|            Altruism|2008-12-27 03:57:17|\"Altruism is self...|[\"altruism, is, s...|(262144,[5675,680...|\n",
      "|339|            Ayn Rand|2008-12-30 08:03:06|\"Ayn Rand (,  – M...|[\"ayn, rand, (,, ...|(262144,[528,1091...|\n",
      "|340|        Alain Connes|2008-09-03 13:41:39|Alain Connes (bor...|[alain, connes, (...|(262144,[154,1595...|\n",
      "|344|          Allan Dwan|2008-11-14 05:28:58|Allan Dwan (April...|[allan, dwan, (ap...|(262144,[1578,181...|\n",
      "|358|             Algeria|2008-12-29 02:54:36|\"Algeria (, al-Ja...|[\"algeria, (,, al...|(262144,[3852,492...|\n",
      "|359|List of character...|2008-12-23 20:20:21|\"This is a list o...|[\"this, is, a, li...|(262144,[14376,19...|\n",
      "|569|        Anthropology|2008-12-28 23:04:30|\"Anthropology (, ...|[\"anthropology, (...|(262144,[57138,10...|\n",
      "+---+--------------------+-------------------+--------------------+--------------------+--------------------+\n",
      "only showing top 20 rows\n",
      "\n"
     ]
    }
   ],
   "source": [
    "featuredData.show()"
   ]
  },
  {
   "cell_type": "code",
   "execution_count": 12,
   "id": "006b4a3e-811d-4734-83e3-c35fe9d41039",
   "metadata": {},
   "outputs": [
    {
     "name": "stderr",
     "output_type": "stream",
     "text": [
      "                                                                                \r"
     ]
    }
   ],
   "source": [
    "idf = IDF(inputCol=\"rawFeatures\", outputCol=\"features\")\n",
    "idfModel = idf.fit(featuredData)\n",
    "rescaledData = idfModel.transform(featuredData)"
   ]
  },
  {
   "cell_type": "code",
   "execution_count": 13,
   "id": "2a97aced-f249-4ef2-9eb5-7d612835fcce",
   "metadata": {},
   "outputs": [
    {
     "name": "stdout",
     "output_type": "stream",
     "text": [
      "22/12/27 13:36:11 WARN DAGScheduler: Broadcasting large task binary with size 4.0 MiB\n",
      "+---+--------------------+-------------------+--------------------+--------------------+--------------------+--------------------+\n",
      "| ID|               Title|               Time|            Document|               words|         rawFeatures|            features|\n",
      "+---+--------------------+-------------------+--------------------+--------------------+--------------------+--------------------+\n",
      "| 12|           Anarchism|2008-12-30 06:23:05|\"Anarchism (somet...|[\"anarchism, (som...|(262144,[15157,27...|(262144,[15157,27...|\n",
      "| 25|              Autism|2008-12-24 20:41:05|\"Autism is a brai...|[\"autism, is, a, ...|(262144,[15,1546,...|(262144,[15,1546,...|\n",
      "| 39|              Albedo|2008-12-29 18:19:09|\"The albedo of an...|[\"the, albedo, of...|(262144,[7853,240...|(262144,[7853,240...|\n",
      "|290|                   A|2008-12-27 04:33:16|\"The letter A is ...|[\"the, letter, a,...|(262144,[6037,942...|(262144,[6037,942...|\n",
      "|303|             Alabama|2008-12-29 08:15:47|\"Alabama (formall...|[\"alabama, (forma...|(262144,[1797,256...|(262144,[1797,256...|\n",
      "|305|            Achilles|2008-12-30 06:18:01|\"thumb\\n\\nIn Gree...|[\"thumb\\n\\nin, gr...|(262144,[10758,16...|(262144,[10758,16...|\n",
      "|307|     Abraham Lincoln|2008-12-28 20:18:23|\"Abraham Lincoln ...|[\"abraham, lincol...|(262144,[2564,460...|(262144,[2564,460...|\n",
      "|308|           Aristotle|2008-12-29 23:54:48|\"Aristotle (Greek...|[\"aristotle, (gre...|(262144,[2767,356...|(262144,[2767,356...|\n",
      "|309|An American in Paris|2008-09-27 19:29:28|\"An American in P...|[\"an, american, i...|(262144,[2366,670...|(262144,[2366,670...|\n",
      "|324|       Academy Award|2008-12-28 17:50:43|\"The Academy Awar...|[\"the, academy, a...|(262144,[2931,328...|(262144,[2931,328...|\n",
      "|330|             Actrius|2008-05-23 15:24:32|Actrius (Actresse...|[actrius, (actres...|(262144,[6558,674...|(262144,[6558,674...|\n",
      "|332|     Animalia (book)|2008-12-18 11:12:34|thumbAnimalia (IS...|[thumbanimalia, (...|(262144,[2284,609...|(262144,[2284,609...|\n",
      "|334|International Ato...|2008-11-21 22:40:20|International Ato...|[international, a...|(262144,[847,925,...|(262144,[847,925,...|\n",
      "|336|            Altruism|2008-12-27 03:57:17|\"Altruism is self...|[\"altruism, is, s...|(262144,[5675,680...|(262144,[5675,680...|\n",
      "|339|            Ayn Rand|2008-12-30 08:03:06|\"Ayn Rand (,  – M...|[\"ayn, rand, (,, ...|(262144,[528,1091...|(262144,[528,1091...|\n",
      "|340|        Alain Connes|2008-09-03 13:41:39|Alain Connes (bor...|[alain, connes, (...|(262144,[154,1595...|(262144,[154,1595...|\n",
      "|344|          Allan Dwan|2008-11-14 05:28:58|Allan Dwan (April...|[allan, dwan, (ap...|(262144,[1578,181...|(262144,[1578,181...|\n",
      "|358|             Algeria|2008-12-29 02:54:36|\"Algeria (, al-Ja...|[\"algeria, (,, al...|(262144,[3852,492...|(262144,[3852,492...|\n",
      "|359|List of character...|2008-12-23 20:20:21|\"This is a list o...|[\"this, is, a, li...|(262144,[14376,19...|(262144,[14376,19...|\n",
      "|569|        Anthropology|2008-12-28 23:04:30|\"Anthropology (, ...|[\"anthropology, (...|(262144,[57138,10...|(262144,[57138,10...|\n",
      "+---+--------------------+-------------------+--------------------+--------------------+--------------------+--------------------+\n",
      "only showing top 20 rows\n",
      "\n"
     ]
    }
   ],
   "source": [
    "rescaledData.show()"
   ]
  },
  {
   "cell_type": "markdown",
   "id": "7585c345-ece4-4f00-be2c-435aa07b6760",
   "metadata": {},
   "source": [
    "## Search "
   ]
  },
  {
   "cell_type": "code",
   "execution_count": 14,
   "id": "cc8d7302-eb85-48e5-b0d7-7193e2e26a80",
   "metadata": {},
   "outputs": [],
   "source": [
    "def search_article(keyword):\n",
    "    # get the hash val from keyword\n",
    "    schema = StructType([StructField(\"words\", ArrayType(StringType()))])\n",
    "    temp = spark.createDataFrame(([[[keyword]]]), schema).toDF(\"words\")\n",
    "    temp_unhashed = hashingTF.transform(temp).select(\"rawFeatures\").collect()\n",
    "    val = int(temp_unhashed[0].rawFeatures.indices[0])\n",
    "    #\n",
    "    termExtractor = udf(lambda x:float(x[val]), FloatType())\n",
    "    final = rescaledData.withColumn('score', termExtractor(rescaledData.features))\n",
    "    final = final.filter(\"score>0\").orderBy(\"score\", ascending=False)\n",
    "    return final.select('ID', 'Title', 'score')"
   ]
  },
  {
   "cell_type": "code",
   "execution_count": 15,
   "id": "0e57c82c-5034-42a8-8ac0-8a3cbc50a9c2",
   "metadata": {},
   "outputs": [
    {
     "name": "stderr",
     "output_type": "stream",
     "text": [
      "                                                                                \r"
     ]
    },
    {
     "name": "stdout",
     "output_type": "stream",
     "text": [
      "22/12/27 13:36:12 WARN DAGScheduler: Broadcasting large task binary with size 4.1 MiB\n"
     ]
    },
    {
     "name": "stderr",
     "output_type": "stream",
     "text": [
      "[Stage 11:===================>                                      (1 + 2) / 3]\r"
     ]
    },
    {
     "name": "stdout",
     "output_type": "stream",
     "text": [
      "+----+--------------------+--------+\n",
      "|  ID|               Title|   score|\n",
      "+----+--------------------+--------+\n",
      "| 984|     Agatha Christie|5.521461|\n",
      "| 986|          The Plague|5.521461|\n",
      "|1307|The Alan Parsons ...|5.521461|\n",
      "+----+--------------------+--------+\n",
      "\n"
     ]
    },
    {
     "name": "stderr",
     "output_type": "stream",
     "text": [
      "                                                                                \r"
     ]
    }
   ],
   "source": [
    "search_article('mystery').show()"
   ]
  },
  {
   "cell_type": "code",
   "execution_count": 16,
   "id": "afdff129-e814-4673-83c5-26f73d305a45",
   "metadata": {},
   "outputs": [
    {
     "name": "stdout",
     "output_type": "stream",
     "text": [
      "22/12/27 13:36:14 WARN DAGScheduler: Broadcasting large task binary with size 4.1 MiB\n",
      "+----+--------------------+----------+\n",
      "|  ID|               Title|     score|\n",
      "+----+--------------------+----------+\n",
      "| 931|The Amazing Spide...|14.4849415|\n",
      "|2101|             Asterix|  9.656628|\n",
      "|1549|             Agathon|  9.656628|\n",
      "|2023|           Aeschylus|  9.656628|\n",
      "|1028|        Aristophanes|  9.656628|\n",
      "|1614|              Alexis|  4.828314|\n",
      "|1784|  Athenian democracy|  4.828314|\n",
      "+----+--------------------+----------+\n",
      "\n"
     ]
    },
    {
     "name": "stderr",
     "output_type": "stream",
     "text": [
      "                                                                                \r"
     ]
    }
   ],
   "source": [
    "search_article('comic').show()"
   ]
  },
  {
   "cell_type": "code",
   "execution_count": 17,
   "id": "7681c7ec-bf17-46be-8c67-6d8a5a162aac",
   "metadata": {},
   "outputs": [
    {
     "name": "stdout",
     "output_type": "stream",
     "text": [
      "22/12/27 13:36:15 WARN DAGScheduler: Broadcasting large task binary with size 4.1 MiB\n",
      "+----+--------------------+---------+\n",
      "|  ID|               Title|    score|\n",
      "+----+--------------------+---------+\n",
      "|1973| American Revolution|12.052151|\n",
      "|2273|            AFC Ajax|4.0173836|\n",
      "| 339|            Ayn Rand|4.0173836|\n",
      "| 572|Agricultural science|4.0173836|\n",
      "| 771|American Revoluti...|4.0173836|\n",
      "| 915|       Andrey Markov|4.0173836|\n",
      "| 930|       Alvin Toffler|4.0173836|\n",
      "|1030|     Austrian School|4.0173836|\n",
      "|1057|      Anatole France|4.0173836|\n",
      "|1192| Artistic revolution|4.0173836|\n",
      "|1316|      Annales School|4.0173836|\n",
      "|1676|Alfonso XII of Spain|4.0173836|\n",
      "|1363|  André-Marie Ampère|4.0173836|\n",
      "|2075|  Aircraft hijacking|4.0173836|\n",
      "|1784|  Athenian democracy|4.0173836|\n",
      "|1844|          Archimedes|4.0173836|\n",
      "|2070|Act of Settlement...|4.0173836|\n",
      "+----+--------------------+---------+\n",
      "\n"
     ]
    }
   ],
   "source": [
    "search_article('revolution').show()"
   ]
  },
  {
   "cell_type": "code",
   "execution_count": 18,
   "id": "8cb8920c-75d1-4c57-8474-b3800391032f",
   "metadata": {},
   "outputs": [
    {
     "name": "stdout",
     "output_type": "stream",
     "text": [
      "22/12/27 13:36:16 WARN DAGScheduler: Broadcasting large task binary with size 4.1 MiB\n",
      "+----+--------------------+---------+\n",
      "|  ID|               Title|    score|\n",
      "+----+--------------------+---------+\n",
      "|2273|            AFC Ajax|54.596165|\n",
      "|2357|American Football...|46.196754|\n",
      "|2174|        Arsenal F.C.|29.397936|\n",
      "|2358|           A.S. Roma| 25.19823|\n",
      "|2102|   Arizona Cardinals|20.998526|\n",
      "|2103|     Atlanta Falcons| 16.79882|\n",
      "| 615|American Football...| 16.79882|\n",
      "| 925|Alumni Athletic Club|12.599115|\n",
      "|2289|  AZ (football club)| 4.199705|\n",
      "|2310|       Arthur Miller| 4.199705|\n",
      "|1797|                Acre| 4.199705|\n",
      "|2363|Alessandro Scarlatti| 4.199705|\n",
      "|2382|               Aalen| 4.199705|\n",
      "|1016|       Achill Island| 4.199705|\n",
      "+----+--------------------+---------+\n",
      "\n"
     ]
    }
   ],
   "source": [
    "search_article('football').show()"
   ]
  },
  {
   "cell_type": "code",
   "execution_count": 19,
   "id": "3959e1e7-d57e-43e4-b586-dee8e3659057",
   "metadata": {},
   "outputs": [
    {
     "name": "stdout",
     "output_type": "stream",
     "text": [
      "22/12/27 13:36:17 WARN DAGScheduler: Broadcasting large task binary with size 4.1 MiB\n",
      "+----+------------+--------+\n",
      "|  ID|       Title|   score|\n",
      "+----+------------+--------+\n",
      "|2174|Arsenal F.C.|6.214608|\n",
      "+----+------------+--------+\n",
      "\n"
     ]
    }
   ],
   "source": [
    "search_article('emirates').show()"
   ]
  },
  {
   "cell_type": "code",
   "execution_count": 20,
   "id": "59924b73-03ef-405c-803d-149f9604333f",
   "metadata": {},
   "outputs": [
    {
     "name": "stdout",
     "output_type": "stream",
     "text": [
      "22/12/27 13:36:18 WARN DAGScheduler: Broadcasting large task binary with size 4.1 MiB\n",
      "+----+--------------------+---------+\n",
      "|  ID|               Title|    score|\n",
      "+----+--------------------+---------+\n",
      "|1854| Geography of Africa|56.093544|\n",
      "|2273|            AFC Ajax|43.326492|\n",
      "|2023|           Aeschylus|41.968296|\n",
      "|1216|              Athens|30.287798|\n",
      "| 717|             Alberta|26.213207|\n",
      "|2358|           A.S. Roma|23.904272|\n",
      "| 841|      Attila the Hun|23.360992|\n",
      "|1285|Geography of Alabama|23.089354|\n",
      "|2338|Rise and Fall of ...|21.323696|\n",
      "|1440|       Abydos, Egypt|19.150581|\n",
      "| 904|           Aluminium| 18.87894|\n",
      "|1905|              Ambush|18.199842|\n",
      "|1962|  Apparent magnitude|17.928204|\n",
      "|1557|Agrippina the You...|17.792383|\n",
      "|1613|  Alexios I Komnenos|17.792383|\n",
      "|1234|     Acoustic theory|17.520744|\n",
      "|2064|      Antonio Canova|15.619268|\n",
      "|1686| Alfonso V of Aragon| 15.07599|\n",
      "|1451|APL (programming ...| 15.07599|\n",
      "|2274|Arthur Stanley Ed...| 14.80435|\n",
      "+----+--------------------+---------+\n",
      "only showing top 20 rows\n",
      "\n"
     ]
    },
    {
     "name": "stderr",
     "output_type": "stream",
     "text": [
      "                                                                                \r"
     ]
    }
   ],
   "source": [
    "search_article('the').show()"
   ]
  }
 ],
 "metadata": {
  "kernelspec": {
   "display_name": "Python 3 (ipykernel)",
   "language": "python",
   "name": "python3"
  },
  "language_info": {
   "codemirror_mode": {
    "name": "ipython",
    "version": 3
   },
   "file_extension": ".py",
   "mimetype": "text/x-python",
   "name": "python",
   "nbconvert_exporter": "python",
   "pygments_lexer": "ipython3",
   "version": "3.8.5"
  }
 },
 "nbformat": 4,
 "nbformat_minor": 5
}
